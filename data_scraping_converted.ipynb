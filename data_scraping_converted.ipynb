{
 "cells": [
  {
   "cell_type": "code",
   "execution_count": null,
   "metadata": {},
   "outputs": [],
   "source": [
    "import requests\n",
    "from bs4 import BeautifulSoup\n",
    "import concurrent.futures\n",
    "import pandas as pd\n",
    "from tqdm.notebook import tqdm\n",
    "import time\n",
    "import os"
   ]
  },
  {
   "cell_type": "code",
   "execution_count": null,
   "metadata": {},
   "outputs": [],
   "source": [
    "# パラメータ設定\n",
    "year_start = 2013\n",
    "year_end = 2024\n",
    "place_dict = {\n",
    "    \"01\": \"札幌\", \"02\": \"函館\", \"03\": \"福島\", \"04\": \"新潟\", \"05\": \"東京\",\n",
    "    \"06\": \"中山\", \"07\": \"中京\", \"08\": \"京都\", \"09\": \"阪神\", \"10\": \"小倉\"\n",
    "}"
   ]
  },
  {
   "cell_type": "code",
   "execution_count": null,
   "metadata": {},
   "outputs": [],
   "source": [
    "# ユーザーエージェントリスト\n",
    "user_agents = [\n",
    "    \"Mozilla/5.0 (Windows NT 10.0; Win64; x64) AppleWebKit/537.36 (KHTML, like Gecko) Chrome/91.0.4472.124 Safari/537.36\",\n",
    "    \"Mozilla/5.0 (Macintosh; Intel Mac OS X 10_15_7) AppleWebKit/605.1.15 (KHTML, like Gecko) Version/14.1.2 Safari/605.1.15\",\n",
    "    \"Mozilla/5.0 (Windows NT 10.0; Win64; x64) AppleWebKit/537.36 (KHTML, like Gecko) Edge/91.0.864.67\",\n",
    "    \"Mozilla/5.0 (X11; Linux x86_64) AppleWebKit/537.36 (KHTML, like Gecko) Chrome/91.0.4472.114 Safari/537.36\",\n",
    "    \"Mozilla/5.0 (iPhone; CPU iPhone OS 14_6 like Mac OS X) AppleWebKit/605.1.15 (KHTML, like Gecko) Version/14.0 Mobile/15E148 Safari/604.1\"\n",
    "]"
   ]
  },
  {
   "cell_type": "code",
   "execution_count": null,
   "metadata": {},
   "outputs": [],
   "source": [
    "def fetch_race_data(url, max_retries=3):\n",
    "    retries = 0\n",
    "    while retries < max_retries:\n",
    "        try:\n",
    "            headers = {'User-Agent': random.choice(user_agents)}\n",
    "            r = requests.get(url, headers=headers)\n",
    "            r.raise_for_status()\n",
    "            return r.content\n",
    "        except requests.exceptions.RequestException as e:\n",
    "            print(f\"Error: {e}\")\n",
    "            retries += 1\n",
    "            wait_time = random.uniform(2, 5)\n",
    "            print(f\"Retrying in {wait_time} seconds...\")\n",
    "            time.sleep(wait_time)\n",
    "    return None"
   ]
  },
  {
   "cell_type": "code",
   "execution_count": null,
   "metadata": {},
   "outputs": [],
   "source": [
    "def parse_race_data(race_id, content):\n",
    "    if content is None:\n",
    "        return []\n",
    "    \n",
    "    soup = BeautifulSoup(content, \"html.parser\", from_encoding=\"euc-jp\")\n",
    "    soup_span = soup.find_all(\"span\")\n",
    "    main_table = soup.find(\"table\", {\"class\": \"race_table_01 nk_tb_common\"})\n",
    "    \n",
    "    if not main_table:\n",
    "        print('continue: ' + race_id)\n",
    "        return []\n",
    "    \n",
    "    race_data = []\n",
    "    for row in main_table.find_all(\"tr\")[1:]:\n",
    "        cols = row.find_all(\"td\")\n",
    "        \n",
    "        # データ抽出処理...\n",
    "        \n",
    "        race_data.append([\n",
    "            race_id,\n",
    "            cols[3].text.strip(),  # 馬名\n",
    "            cols[6].text.strip(),  # 騎手名\n",
    "            # その他のデータ...\n",
    "        ])\n",
    "    return race_data"
   ]
  },
  {
   "cell_type": "code",
   "execution_count": null,
   "metadata": {},
   "outputs": [],
   "source": [
    "def process_race(url_race_id_tuple):\n",
    "    url, race_id = url_race_id_tuple\n",
    "    content = fetch_race_data(url)\n",
    "    return parse_race_data(race_id, content)"
   ]
  },
  {
   "cell_type": "code",
   "execution_count": null,
   "metadata": {},
   "outputs": [],
   "source": [
    "total_years = year_end - year_start + 1\n",
    "\n",
    "with tqdm(total=total_years, desc=\"Total Progress\", position=0, leave=True) as pbar_total:\n",
    "    for year in range(year_start, year_end + 1):\n",
    "        race_data_all = []\n",
    "        urls = []\n",
    "        race_ids = []\n",
    "        \n",
    "        # URLとrace_idの生成...\n",
    "        \n",
    "        with tqdm(total=len(urls), desc=f\"Year {year}\", position=1, leave=True) as pbar_year:\n",
    "            with concurrent.futures.ThreadPoolExecutor(max_workers=3) as executor:\n",
    "                future_to_url = {executor.submit(process_race, url_race_id): url_race_id \n",
    "                               for url_race_id in zip(urls, race_ids)}\n",
    "                \n",
    "                for future in concurrent.futures.as_completed(future_to_url):\n",
    "                    result = future.result()\n",
    "                    race_data_all.extend(result)\n",
    "                    pbar_year.update(1)\n",
    "        \n",
    "        # DataFrameの作成と保存...\n",
    "        \n",
    "        pbar_total.update(1)"
   ]
  }
 ],
 "metadata": {
  "kernelspec": {
   "display_name": "Python 3",
   "language": "python",
   "name": "python3"
  },
  "language_info": {
   "codemirror_mode": {
    "name": "ipython",
    "version": 3
   },
   "file_extension": ".py",
   "mimetype": "text/x-python",
   "name": "python",
   "nbconvert_exporter": "python",
   "pygments_lexer": "ipython3",
   "version": "3.10.0"
  }
 },
 "nbformat": 4,
 "nbformat_minor": 4
}
