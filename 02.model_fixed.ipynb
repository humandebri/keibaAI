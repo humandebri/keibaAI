{
 "cells": [
  {
   "cell_type": "markdown",
   "metadata": {},
   "source": [
    "## 時系列を考慮した適切なモデル評価\n",
    "\n",
    "データリークを防ぎ、実際の運用を想定した評価を行います。"
   ]
  },
  {
   "cell_type": "code",
   "execution_count": null,
   "metadata": {},
   "outputs": [],
   "source": [
    "import sys\n",
    "sys.path.append('src')\n",
    "\n",
    "from models.proper_evaluation import ProperModelEvaluator\n",
    "import warnings\n",
    "warnings.filterwarnings('ignore')"
   ]
  },
  {
   "cell_type": "markdown",
   "metadata": {},
   "source": [
    "### 1. 単一期間での評価\n",
    "\n",
    "2020-2021年のデータで学習し、2022年で検証、2023年でテストします。"
   ]
  },
  {
   "cell_type": "code",
   "execution_count": null,
   "metadata": {},
   "outputs": [],
   "source": [
    "evaluator = ProperModelEvaluator()\n",
    "\n",
    "# 時系列検証の実行\n",
    "result = evaluator.run_time_series_validation(\n",
    "    train_years=[2020, 2021],  # 学習データ\n",
    "    valid_year=2022,           # 検証データ（閾値決定用）\n",
    "    test_year=2023             # テストデータ（最終評価用）\n",
    ")"
   ]
  },
  {
   "cell_type": "markdown",
   "metadata": {},
   "source": [
    "### 2. ウォークフォワード分析\n",
    "\n",
    "実際の運用を想定し、過去データのみを使って順次予測を行います。"
   ]
  },
  {
   "cell_type": "code",
   "execution_count": null,
   "metadata": {},
   "outputs": [],
   "source": [
    "# 2019年から2023年まで、2年間の訓練データで順次予測\n",
    "results = evaluator.run_walk_forward_analysis(\n",
    "    start_year=2019,\n",
    "    end_year=2023,\n",
    "    train_window=2  # 過去2年分のデータで学習\n",
    ")"
   ]
  },
  {
   "cell_type": "markdown",
   "metadata": {},
   "source": [
    "### 3. 特徴量重要度の確認\n",
    "\n",
    "最新のモデルで、どの特徴量が重要かを確認します。"
   ]
  },
  {
   "cell_type": "code",
   "execution_count": null,
   "metadata": {},
   "outputs": [],
   "source": [
    "# 最新モデルの特徴量重要度\n",
    "if results:\n",
    "    latest_model = results[-1]['model']\n",
    "    feature_importance = latest_model.feature_importances_\n",
    "    feature_names = latest_model.feature_name_\n",
    "    \n",
    "    # 重要度でソート\n",
    "    import numpy as np\n",
    "    indices = np.argsort(feature_importance)[::-1]\n",
    "    \n",
    "    print(\"Top 20 Important Features:\")\n",
    "    for i in range(min(20, len(indices))):\n",
    "        idx = indices[i]\n",
    "        print(f\"{i+1:2d}) {feature_names[idx]:<30} {feature_importance[idx]:>6}\")"
   ]
  },
  {
   "cell_type": "markdown",
   "metadata": {},
   "source": [
    "### 4. 結果の可視化"
   ]
  },
  {
   "cell_type": "code",
   "execution_count": null,
   "metadata": {},
   "outputs": [],
   "source": [
    "import matplotlib.pyplot as plt\n",
    "import pandas as pd\n",
    "\n",
    "# 年ごとの回収率をプロット\n",
    "if results:\n",
    "    years = [r['test_year'] for r in results]\n",
    "    win_rates = [r['return_results']['win_return_rate'] for r in results]\n",
    "    place_rates = [r['return_results']['place_return_rate'] for r in results]\n",
    "    aucs = [r['test_auc'] for r in results]\n",
    "    \n",
    "    fig, (ax1, ax2) = plt.subplots(2, 1, figsize=(10, 8))\n",
    "    \n",
    "    # 回収率のプロット\n",
    "    ax1.plot(years, win_rates, 'o-', label='単勝回収率', linewidth=2)\n",
    "    ax1.plot(years, place_rates, 's-', label='複勝回収率', linewidth=2)\n",
    "    ax1.axhline(y=100, color='r', linestyle='--', label='損益分岐点')\n",
    "    ax1.set_xlabel('年')\n",
    "    ax1.set_ylabel('回収率 (%)')\n",
    "    ax1.set_title('年ごとの回収率推移')\n",
    "    ax1.legend()\n",
    "    ax1.grid(True, alpha=0.3)\n",
    "    \n",
    "    # AUCのプロット\n",
    "    ax2.plot(years, aucs, 'o-', color='green', linewidth=2)\n",
    "    ax2.set_xlabel('年')\n",
    "    ax2.set_ylabel('AUC')\n",
    "    ax2.set_title('モデル性能（AUC）の推移')\n",
    "    ax2.grid(True, alpha=0.3)\n",
    "    \n",
    "    plt.tight_layout()\n",
    "    plt.show()\n",
    "    \n",
    "    # 結果のサマリーテーブル\n",
    "    summary_df = pd.DataFrame({\n",
    "        'Year': years,\n",
    "        'AUC': aucs,\n",
    "        'Bets': [r['return_results']['bet_count'] for r in results],\n",
    "        'Win Return (%)': win_rates,\n",
    "        'Place Return (%)': place_rates\n",
    "    })\n",
    "    \n",
    "    print(\"\\nSummary Table:\")\n",
    "    print(summary_df.to_string(index=False))"
   ]
  },
  {
   "cell_type": "markdown",
   "metadata": {},
   "source": [
    "### 5. 現実的な期待値\n",
    "\n",
    "データリークを排除した場合の現実的な回収率は：\n",
    "- **単勝**: 70-90%程度\n",
    "- **複勝**: 80-95%程度\n",
    "\n",
    "100%を超えることは稀で、長期的に利益を出すのは非常に困難です。"
   ]
  }
 ],
 "metadata": {
  "kernelspec": {
   "display_name": "Python 3",
   "language": "python",
   "name": "python3"
  },
  "language_info": {
   "codemirror_mode": {
    "name": "ipython",
    "version": 3
   },
   "file_extension": ".py",
   "mimetype": "text/x-python",
   "name": "python",
   "nbconvert_exporter": "python",
   "pygments_lexer": "ipython3",
   "version": "3.8.0"
  }
 },
 "nbformat": 4,
 "nbformat_minor": 4
}