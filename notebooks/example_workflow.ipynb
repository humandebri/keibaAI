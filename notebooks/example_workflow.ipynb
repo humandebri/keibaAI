{
 "cells": [
  {
   "cell_type": "markdown",
   "metadata": {},
   "source": [
    "# Keiba AI - Example Workflow\\n",
    "\\n",
    "This notebook demonstrates how to use the refactored Keiba AI system."
   ]
  },
  {
   "cell_type": "markdown",
   "metadata": {},
   "source": [
    "## 1. Data Scraping"
   ]
  },
  {
   "cell_type": "code",
   "execution_count": null,
   "metadata": {},
   "outputs": [],
   "source": [
    "import sys\\n",
    "sys.path.append('..')\\n",
    "\\n",
    "from src.data_processing.data_scraping import RaceScraper\\n",
    "\\n",
    "# Initialize scraper\\n",
    "scraper = RaceScraper(output_dir='../data', max_workers=3)\\n",
    "\\n",
    "# Scrape data for 2024\\n",
    "scraper.scrape_years(2024, 2024, format='xlsx')"
   ]
  },
  {
   "cell_type": "markdown",
   "metadata": {},
   "source": [
    "## 2. Data Encoding"
   ]
  },
  {
   "cell_type": "code",
   "execution_count": null,
   "metadata": {},
   "outputs": [],
   "source": [
    "from src.data_processing.data_encoding import RaceDataEncoder\\n",
    "\\n",
    "# Initialize encoder\\n",
    "encoder = RaceDataEncoder(config_dir='../config', encoded_dir='../encoded')\\n",
    "\\n",
    "# Encode data\\n",
    "encoded_path = encoder.encode_data(2022, 2023, data_dir='../data')"
   ]
  },
  {
   "cell_type": "markdown",
   "metadata": {},
   "source": [
    "## 3. Model Training"
   ]
  },
  {
   "cell_type": "code",
   "execution_count": null,
   "metadata": {},
   "outputs": [],
   "source": [
    "import pandas as pd\\n",
    "from src.modeling.model_training import load_race_data, engineer_features\\n",
    "from src.modeling.model_training import create_target, train_model_with_optuna\\n",
    "\\n",
    "# Load and prepare data\\n",
    "df = load_race_data()\\n",
    "df = engineer_features(df)\\n",
    "\\n",
    "# Create target\\n",
    "df = create_target(df)\\n",
    "\\n",
    "# Train model\\n",
    "model, results = train_model_with_optuna(df, n_trials=50)"
   ]
  },
  {
   "cell_type": "markdown",
   "metadata": {},
   "source": [
    "## 4. Backtesting"
   ]
  },
  {
   "cell_type": "code",
   "execution_count": null,
   "metadata": {},
   "outputs": [],
   "source": [
    "from src.backtesting.backtest import ImprovedBacktest\\n",
    "\\n",
    "# Initialize backtest\\n",
    "backtest = ImprovedBacktest(\\n",
    "    betting_fraction=0.005,\\n",
    "    monthly_stop_loss=0.1,\\n",
    "    ev_threshold=1.2\\n",
    ")\\n",
    "\\n",
    "# Load data and run backtest\\n",
    "backtest.load_and_prepare_data()\\n",
    "results = backtest.run_full_backtest()\\n",
    "\\n",
    "# Display results\\n",
    "print(f\\\"Final Capital: {results['final_capital']:,.0f}\\\")\\n",
    "print(f\\\"Total Return: {results['total_return']:.2%}\\\")\\n",
    "print(f\\\"Sharpe Ratio: {results['sharpe_ratio']:.2f}\\\")"
   ]
  }
 ],
 "metadata": {
  "kernelspec": {
   "display_name": "Python 3",
   "language": "python",
   "name": "python3"
  },
  "language_info": {
   "codemirror_mode": {
    "name": "ipython",
    "version": 3
   },
   "file_extension": ".py",
   "mimetype": "text/x-python",
   "name": "python",
   "nbconvert_exporter": "python",
   "pygments_lexer": "ipython3",
   "version": "3.8.0"
  }
 },
 "nbformat": 4,
 "nbformat_minor": 4
}